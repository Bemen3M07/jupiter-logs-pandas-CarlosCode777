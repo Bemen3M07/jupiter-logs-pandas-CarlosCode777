{
 "cells": [
  {
   "cell_type": "code",
   "execution_count": 6,
   "id": "9f069691-b0cd-4a59-afab-7c18ace243f5",
   "metadata": {},
   "outputs": [],
   "source": [
    "import logging\n",
    "logging.basicConfig(filename='example.log', level=logging.INFO)"
   ]
  },
  {
   "cell_type": "code",
   "execution_count": 2,
   "id": "82d01eba-a1dd-4842-8025-93d15e3ad048",
   "metadata": {},
   "outputs": [
    {
     "name": "stderr",
     "output_type": "stream",
     "text": [
      "ERROR:root:error\n"
     ]
    }
   ],
   "source": [
    "logging.error('error')"
   ]
  },
  {
   "cell_type": "code",
   "execution_count": 3,
   "id": "77d1066e-c498-4633-a50a-10fb13865d0b",
   "metadata": {},
   "outputs": [
    {
     "name": "stderr",
     "output_type": "stream",
     "text": [
      "WARNING:root:observa\n"
     ]
    }
   ],
   "source": [
    "logging.warning('observa')"
   ]
  },
  {
   "cell_type": "code",
   "execution_count": 4,
   "id": "a9140b2d-4815-4952-90a5-8a3cb343527f",
   "metadata": {},
   "outputs": [
    {
     "name": "stderr",
     "output_type": "stream",
     "text": [
      "INFO:root:informacion\n"
     ]
    }
   ],
   "source": [
    "logging.info('informacion')"
   ]
  }
 ],
 "metadata": {
  "kernelspec": {
   "display_name": "Python 3 (ipykernel)",
   "language": "python",
   "name": "python3"
  },
  "language_info": {
   "codemirror_mode": {
    "name": "ipython",
    "version": 3
   },
   "file_extension": ".py",
   "mimetype": "text/x-python",
   "name": "python",
   "nbconvert_exporter": "python",
   "pygments_lexer": "ipython3",
   "version": "3.12.1"
  }
 },
 "nbformat": 4,
 "nbformat_minor": 5
}
