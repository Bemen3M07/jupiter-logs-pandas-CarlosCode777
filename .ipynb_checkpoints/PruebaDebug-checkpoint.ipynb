{
 "cells": [
  {
   "cell_type": "code",
   "execution_count": 2,
   "id": "9f069691-b0cd-4a59-afab-7c18ace243f5",
   "metadata": {},
   "outputs": [
    {
     "name": "stderr",
     "output_type": "stream",
     "text": [
      "INFO:root:bucle\n",
      "INFO:root:bucle\n",
      "INFO:root:bucle\n",
      "INFO:root:bucle\n",
      "INFO:root:bucle\n",
      "INFO:root:bucle\n",
      "INFO:root:bucle\n",
      "INFO:root:bucle\n",
      "INFO:root:bucle\n",
      "INFO:root:bucle\n",
      "INFO:root:bucle\n",
      "INFO:root:bucle\n",
      "INFO:root:bucle\n",
      "INFO:root:bucle\n",
      "INFO:root:bucle\n",
      "INFO:root:bucle\n",
      "INFO:root:bucle\n"
     ]
    },
    {
     "ename": "KeyboardInterrupt",
     "evalue": "",
     "output_type": "error",
     "traceback": [
      "\u001b[0;31m---------------------------------------------------------------------------\u001b[0m",
      "\u001b[0;31mKeyboardInterrupt\u001b[0m                         Traceback (most recent call last)",
      "Cell \u001b[0;32mIn[2], line 8\u001b[0m\n\u001b[1;32m      6\u001b[0m \u001b[38;5;28;01mwhile\u001b[39;00m \u001b[38;5;28;01mTrue\u001b[39;00m:\n\u001b[1;32m      7\u001b[0m     logging\u001b[38;5;241m.\u001b[39minfo(\u001b[38;5;124m\"\u001b[39m\u001b[38;5;124mbucle\u001b[39m\u001b[38;5;124m\"\u001b[39m)\n\u001b[0;32m----> 8\u001b[0m     \u001b[43mtime\u001b[49m\u001b[38;5;241;43m.\u001b[39;49m\u001b[43msleep\u001b[49m\u001b[43m(\u001b[49m\u001b[38;5;241;43m2\u001b[39;49m\u001b[43m)\u001b[49m\n",
      "\u001b[0;31mKeyboardInterrupt\u001b[0m: "
     ]
    }
   ],
   "source": [
    "import logging\n",
    "logging.basicConfig(filename='example.log', level=logging.INFO)"
   ]
  },
  {
   "cell_type": "code",
   "execution_count": 2,
   "id": "82d01eba-a1dd-4842-8025-93d15e3ad048",
   "metadata": {},
   "outputs": [],
   "source": [
    "logging.error('error')"
   ]
  },
  {
   "cell_type": "code",
   "execution_count": 3,
   "id": "77d1066e-c498-4633-a50a-10fb13865d0b",
   "metadata": {},
   "outputs": [],
   "source": [
    "logging.warning('observa')"
   ]
  },
  {
   "cell_type": "code",
   "execution_count": 4,
   "id": "a9140b2d-4815-4952-90a5-8a3cb343527f",
   "metadata": {},
   "outputs": [],
   "source": [
    "logging.info('informacion')"
   ]
  }
 ],
 "metadata": {
  "kernelspec": {
   "display_name": "Python 3 (ipykernel)",
   "language": "python",
   "name": "python3"
  },
  "language_info": {
   "codemirror_mode": {
    "name": "ipython",
    "version": 3
   },
   "file_extension": ".py",
   "mimetype": "text/x-python",
   "name": "python",
   "nbconvert_exporter": "python",
   "pygments_lexer": "ipython3",
   "version": "3.12.1"
  }
 },
 "nbformat": 4,
 "nbformat_minor": 5
}
