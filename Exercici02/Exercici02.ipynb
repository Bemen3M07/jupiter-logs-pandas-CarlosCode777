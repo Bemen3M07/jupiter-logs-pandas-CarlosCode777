{
 "cells": [
  {
   "cell_type": "markdown",
   "id": "9084f61d-21a9-4895-870a-d46bc79ce037",
   "metadata": {},
   "source": [
    "Exercici 01"
   ]
  },
  {
   "cell_type": "code",
   "execution_count": 1,
   "id": "ab7494d1-80f3-40e2-b5b8-eabd1131adb5",
   "metadata": {},
   "outputs": [
    {
     "name": "stdout",
     "output_type": "stream",
     "text": [
      "18:36:28 - INFO - Info mensaje\n",
      "18:36:28 - ERROR - Error mensaje\n",
      "18:36:30 - INFO - Info mensaje\n",
      "18:36:30 - ERROR - Error mensaje\n",
      "18:36:32 - INFO - Info mensaje\n",
      "18:36:32 - ERROR - Error mensaje\n",
      "18:36:34 - INFO - Info mensaje\n",
      "18:36:34 - ERROR - Error mensaje\n",
      "18:36:36 - INFO - Info mensaje\n",
      "18:36:36 - ERROR - Error mensaje\n",
      "18:36:38 - INFO - Info mensaje\n",
      "18:36:38 - ERROR - Error mensaje\n",
      "18:36:40 - INFO - Info mensaje\n",
      "18:36:40 - ERROR - Error mensaje\n",
      "18:36:42 - INFO - Info mensaje\n",
      "18:36:42 - ERROR - Error mensaje\n",
      "18:36:44 - INFO - Info mensaje\n",
      "18:36:44 - ERROR - Error mensaje\n",
      "18:36:46 - INFO - Info mensaje\n",
      "18:36:46 - ERROR - Error mensaje\n",
      "18:36:48 - INFO - Info mensaje\n",
      "18:36:48 - ERROR - Error mensaje\n",
      "18:36:50 - INFO - Info mensaje\n",
      "18:36:50 - ERROR - Error mensaje\n",
      "18:36:52 - INFO - Info mensaje\n",
      "18:36:52 - ERROR - Error mensaje\n",
      "18:36:54 - INFO - Info mensaje\n",
      "18:36:54 - ERROR - Error mensaje\n",
      "18:36:56 - INFO - Info mensaje\n",
      "18:36:56 - ERROR - Error mensaje\n",
      "18:36:58 - INFO - Info mensaje\n",
      "18:36:58 - ERROR - Error mensaje\n",
      "18:37:00 - INFO - Info mensaje\n",
      "18:37:00 - ERROR - Error mensaje\n",
      "18:37:02 - INFO - Info mensaje\n",
      "18:37:02 - ERROR - Error mensaje\n",
      "18:37:04 - INFO - Info mensaje\n",
      "18:37:04 - ERROR - Error mensaje\n",
      "18:37:06 - INFO - Info mensaje\n",
      "18:37:06 - ERROR - Error mensaje\n"
     ]
    },
    {
     "ename": "KeyboardInterrupt",
     "evalue": "",
     "output_type": "error",
     "traceback": [
      "\u001b[0;31m---------------------------------------------------------------------------\u001b[0m",
      "\u001b[0;31mKeyboardInterrupt\u001b[0m                         Traceback (most recent call last)",
      "Cell \u001b[0;32mIn[1], line 15\u001b[0m\n\u001b[1;32m     12\u001b[0m info_logger\u001b[38;5;241m.\u001b[39merror(\u001b[38;5;124m\"\u001b[39m\u001b[38;5;124mError mensaje\u001b[39m\u001b[38;5;124m\"\u001b[39m)\n\u001b[1;32m     13\u001b[0m csv_logger\u001b[38;5;241m.\u001b[39minfo(\u001b[38;5;124m\"\u001b[39m\u001b[38;5;124mCSV Mensaje\u001b[39m\u001b[38;5;124m\"\u001b[39m)\n\u001b[0;32m---> 15\u001b[0m \u001b[43mtime\u001b[49m\u001b[38;5;241;43m.\u001b[39;49m\u001b[43msleep\u001b[49m\u001b[43m(\u001b[49m\u001b[38;5;241;43m2\u001b[39;49m\u001b[43m)\u001b[49m\n",
      "\u001b[0;31mKeyboardInterrupt\u001b[0m: "
     ]
    }
   ],
   "source": [
    "import logging\n",
    "import logging.config\n",
    "import time\n",
    "\n",
    "logging.config.fileConfig('Logging.conf')\n",
    "\n",
    "info_logger = logging.getLogger('infoLogger')\n",
    "csv_logger = logging.getLogger('csvLogger')\n",
    "\n",
    "while True:\n",
    "    info_logger.info(\"Info mensaje\")\n",
    "    info_logger.error(\"Error mensaje\")\n",
    "    csv_logger.info(\"CSV Mensaje\")\n",
    "\n",
    "    time.sleep(2)"
   ]
  },
  {
   "cell_type": "markdown",
   "id": "b58b326f-8a85-420d-bcf2-efbf16ccca46",
   "metadata": {},
   "source": [
    "Exercici 02"
   ]
  }
 ],
 "metadata": {
  "kernelspec": {
   "display_name": "Python 3 (ipykernel)",
   "language": "python",
   "name": "python3"
  },
  "language_info": {
   "codemirror_mode": {
    "name": "ipython",
    "version": 3
   },
   "file_extension": ".py",
   "mimetype": "text/x-python",
   "name": "python",
   "nbconvert_exporter": "python",
   "pygments_lexer": "ipython3",
   "version": "3.12.1"
  }
 },
 "nbformat": 4,
 "nbformat_minor": 5
}
