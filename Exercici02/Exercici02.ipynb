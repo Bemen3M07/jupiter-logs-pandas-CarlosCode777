{
 "cells": [
  {
   "cell_type": "markdown",
   "id": "9084f61d-21a9-4895-870a-d46bc79ce037",
   "metadata": {},
   "source": [
    "# Exercici 01"
   ]
  },
  {
   "cell_type": "code",
   "execution_count": 2,
   "id": "1b412c22-7c58-46cd-a58f-4bda43bba746",
   "metadata": {},
   "outputs": [
    {
     "name": "stdout",
     "output_type": "stream",
     "text": [
      "19:19:55 - INFO - Info mensaje\n",
      "19:19:55 - ERROR - Error mensaje\n",
      "19:19:56 - INFO - Info mensaje\n",
      "19:19:56 - ERROR - Error mensaje\n",
      "19:19:57 - INFO - Info mensaje\n",
      "19:19:57 - ERROR - Error mensaje\n",
      "19:19:58 - INFO - Info mensaje\n",
      "19:19:58 - ERROR - Error mensaje\n",
      "19:19:59 - INFO - Info mensaje\n",
      "19:19:59 - ERROR - Error mensaje\n",
      "19:20:00 - INFO - Info mensaje\n",
      "19:20:00 - ERROR - Error mensaje\n"
     ]
    },
    {
     "ename": "KeyboardInterrupt",
     "evalue": "",
     "output_type": "error",
     "traceback": [
      "\u001b[0;31m---------------------------------------------------------------------------\u001b[0m",
      "\u001b[0;31mKeyboardInterrupt\u001b[0m                         Traceback (most recent call last)",
      "Cell \u001b[0;32mIn[2], line 15\u001b[0m\n\u001b[1;32m     12\u001b[0m info_logger\u001b[38;5;241m.\u001b[39merror(\u001b[38;5;124m\"\u001b[39m\u001b[38;5;124mError mensaje\u001b[39m\u001b[38;5;124m\"\u001b[39m)\n\u001b[1;32m     13\u001b[0m csv_logger\u001b[38;5;241m.\u001b[39minfo(\u001b[38;5;124m\"\u001b[39m\u001b[38;5;124mCSV Mensaje\u001b[39m\u001b[38;5;124m\"\u001b[39m)\n\u001b[0;32m---> 15\u001b[0m \u001b[43mtime\u001b[49m\u001b[38;5;241;43m.\u001b[39;49m\u001b[43msleep\u001b[49m\u001b[43m(\u001b[49m\u001b[38;5;241;43m1\u001b[39;49m\u001b[43m)\u001b[49m\n",
      "\u001b[0;31mKeyboardInterrupt\u001b[0m: "
     ]
    }
   ],
   "source": [
    "import logging\n",
    "import logging.config\n",
    "import time\n",
    "\n",
    "logging.config.fileConfig('Logging.conf')\n",
    "\n",
    "info_logger = logging.getLogger('infoLogger')\n",
    "csv_logger = logging.getLogger('csvLogger')\n",
    "\n",
    "while True:\n",
    "    info_logger.info(\"Info mensaje\")\n",
    "    info_logger.error(\"Error mensaje\")\n",
    "    csv_logger.info(\"CSV Mensaje\")\n",
    "\n",
    "    time.sleep(1)"
   ]
  },
  {
   "cell_type": "markdown",
   "id": "ff2a1451-fcf3-49ba-9171-f54996c9dd53",
   "metadata": {},
   "source": [
    "# Exercici 02"
   ]
  },
  {
   "cell_type": "markdown",
   "id": "5b71ac70-cad5-4ceb-b56e-f8c72c4c1b7e",
   "metadata": {
    "jp-MarkdownHeadingCollapsed": true
   },
   "source": [
    "**Que creieu que és millor mostrar els logs per exemple a la terminal durant l'execució del programa o bolcar-los en un fitxer de text?**"
   ]
  },
  {
   "cell_type": "markdown",
   "id": "239eddba-1b97-46ac-a48d-f8105154b293",
   "metadata": {},
   "source": [
    "La elección de mostrar los registros en la terminal o guardarlos en un archivo depende de las necesidades específicas de la aplicación. Mostrar los registros en la terminal es útil durante el desarrollo, ya que permite observar en tiempo real los eventos que ocurren mientras el programa está en ejecución. Esto facilita la depuración y el monitoreo instantáneo del comportamiento del programa. Sin embargo, los registros mostrados en la terminal se pierden cuando el programa termina, lo que puede ser problemático si es necesario consultarlos más tarde o realizar un análisis posterior.\n",
    "\n",
    "Guardar los registros en un archivo ofrece la ventaja de conservarlos, lo que permite hacer un seguimiento a largo plazo, revisar errores pasados o realizar auditorías. Además, los archivos de registro pueden ser analizados o procesados con herramientas externas. Sin embargo, esta opción requiere algo más de configuración, especialmente si la aplicación genera una gran cantidad de datos, lo que obliga a gestionar el tamaño de los archivos y a configurar rotación de logs.\n",
    "\n",
    "Una práctica común es utilizar ambos métodos: mostrar los registros importantes en la terminal durante la ejecución para visibilidad inmediata, y guardar los registros más detallados en archivos para consultas o análisis posteriores. Esto asegura que se tenga acceso a la información en tiempo real mientras se mantiene un archivo completo para un seguimiento más exhaustivo.\n"
   ]
  },
  {
   "cell_type": "markdown",
   "id": "2a108c7d-bb8c-4a49-91ec-7951b82d0384",
   "metadata": {},
   "source": []
  },
  {
   "cell_type": "markdown",
   "id": "1c063e44-858e-4503-94d1-501259a3f739",
   "metadata": {},
   "source": []
  },
  {
   "cell_type": "markdown",
   "id": "4ba3abe1-7597-4c9c-aa35-d6b7f8c6c0e1",
   "metadata": {},
   "source": []
  },
  {
   "cell_type": "markdown",
   "id": "6e44c894-92e9-4208-ac4f-44f925368357",
   "metadata": {},
   "source": []
  },
  {
   "cell_type": "code",
   "execution_count": null,
   "id": "7011bf03-305d-4062-8009-c8f83ba81f01",
   "metadata": {},
   "outputs": [],
   "source": []
  }
 ],
 "metadata": {
  "kernelspec": {
   "display_name": "Python 3 (ipykernel)",
   "language": "python",
   "name": "python3"
  },
  "language_info": {
   "codemirror_mode": {
    "name": "ipython",
    "version": 3
   },
   "file_extension": ".py",
   "mimetype": "text/x-python",
   "name": "python",
   "nbconvert_exporter": "python",
   "pygments_lexer": "ipython3",
   "version": "3.12.1"
  }
 },
 "nbformat": 4,
 "nbformat_minor": 5
}
