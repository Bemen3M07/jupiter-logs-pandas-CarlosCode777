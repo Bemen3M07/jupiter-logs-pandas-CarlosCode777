{
 "cells": [
  {
   "cell_type": "markdown",
   "id": "9084f61d-21a9-4895-870a-d46bc79ce037",
   "metadata": {},
   "source": [
    "Exercici 01"
   ]
  },
  {
   "cell_type": "code",
   "execution_count": null,
   "id": "ab7494d1-80f3-40e2-b5b8-eabd1131adb5",
   "metadata": {},
   "outputs": [
    {
     "name": "stdout",
     "output_type": "stream",
     "text": [
      "18:57:50 - INFO - Info mensaje\n",
      "18:57:50 - ERROR - Error mensaje\n",
      "18:57:52 - INFO - Info mensaje\n",
      "18:57:52 - ERROR - Error mensaje\n",
      "18:57:54 - INFO - Info mensaje\n",
      "18:57:54 - ERROR - Error mensaje\n",
      "18:57:56 - INFO - Info mensaje\n",
      "18:57:56 - ERROR - Error mensaje\n",
      "18:57:58 - INFO - Info mensaje\n",
      "18:57:58 - ERROR - Error mensaje\n",
      "18:58:00 - INFO - Info mensaje\n",
      "18:58:00 - ERROR - Error mensaje\n",
      "18:58:02 - INFO - Info mensaje\n",
      "18:58:02 - ERROR - Error mensaje\n"
     ]
    }
   ],
   "source": [
    "import logging\n",
    "import logging.config\n",
    "import time\n",
    "\n",
    "logging.config.fileConfig('Logging.conf')\n",
    "\n",
    "info_logger = logging.getLogger('infoLogger')\n",
    "csv_logger = logging.getLogger('csvLogger')\n",
    "\n",
    "while True:\n",
    "    info_logger.info(\"Info mensaje\")\n",
    "    info_logger.error(\"Error mensaje\")\n",
    "    csv_logger.info(\"CSV Mensaje\")\n",
    "\n",
    "    time.sleep(1)"
   ]
  },
  {
   "cell_type": "markdown",
   "id": "b58b326f-8a85-420d-bcf2-efbf16ccca46",
   "metadata": {},
   "source": [
    "Exercici 02"
   ]
  }
 ],
 "metadata": {
  "kernelspec": {
   "display_name": "Python 3 (ipykernel)",
   "language": "python",
   "name": "python3"
  },
  "language_info": {
   "codemirror_mode": {
    "name": "ipython",
    "version": 3
   },
   "file_extension": ".py",
   "mimetype": "text/x-python",
   "name": "python",
   "nbconvert_exporter": "python",
   "pygments_lexer": "ipython3",
   "version": "3.12.1"
  }
 },
 "nbformat": 4,
 "nbformat_minor": 5
}
