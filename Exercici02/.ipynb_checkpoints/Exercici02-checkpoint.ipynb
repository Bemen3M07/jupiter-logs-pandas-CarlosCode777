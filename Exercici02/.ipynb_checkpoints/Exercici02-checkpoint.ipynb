{
 "cells": [
  {
   "cell_type": "markdown",
   "id": "9084f61d-21a9-4895-870a-d46bc79ce037",
   "metadata": {},
   "source": [
    "# Exercici 01"
   ]
  },
  {
   "cell_type": "code",
   "execution_count": 2,
   "id": "1b412c22-7c58-46cd-a58f-4bda43bba746",
   "metadata": {},
   "outputs": [
    {
     "name": "stdout",
     "output_type": "stream",
     "text": [
      "19:19:55 - INFO - Info mensaje\n",
      "19:19:55 - ERROR - Error mensaje\n",
      "19:19:56 - INFO - Info mensaje\n",
      "19:19:56 - ERROR - Error mensaje\n",
      "19:19:57 - INFO - Info mensaje\n",
      "19:19:57 - ERROR - Error mensaje\n",
      "19:19:58 - INFO - Info mensaje\n",
      "19:19:58 - ERROR - Error mensaje\n",
      "19:19:59 - INFO - Info mensaje\n",
      "19:19:59 - ERROR - Error mensaje\n",
      "19:20:00 - INFO - Info mensaje\n",
      "19:20:00 - ERROR - Error mensaje\n"
     ]
    },
    {
     "ename": "KeyboardInterrupt",
     "evalue": "",
     "output_type": "error",
     "traceback": [
      "\u001b[0;31m---------------------------------------------------------------------------\u001b[0m",
      "\u001b[0;31mKeyboardInterrupt\u001b[0m                         Traceback (most recent call last)",
      "Cell \u001b[0;32mIn[2], line 15\u001b[0m\n\u001b[1;32m     12\u001b[0m info_logger\u001b[38;5;241m.\u001b[39merror(\u001b[38;5;124m\"\u001b[39m\u001b[38;5;124mError mensaje\u001b[39m\u001b[38;5;124m\"\u001b[39m)\n\u001b[1;32m     13\u001b[0m csv_logger\u001b[38;5;241m.\u001b[39minfo(\u001b[38;5;124m\"\u001b[39m\u001b[38;5;124mCSV Mensaje\u001b[39m\u001b[38;5;124m\"\u001b[39m)\n\u001b[0;32m---> 15\u001b[0m \u001b[43mtime\u001b[49m\u001b[38;5;241;43m.\u001b[39;49m\u001b[43msleep\u001b[49m\u001b[43m(\u001b[49m\u001b[38;5;241;43m1\u001b[39;49m\u001b[43m)\u001b[49m\n",
      "\u001b[0;31mKeyboardInterrupt\u001b[0m: "
     ]
    }
   ],
   "source": [
    "import logging\n",
    "import logging.config\n",
    "import time\n",
    "\n",
    "logging.config.fileConfig('Logging.conf')\n",
    "\n",
    "info_logger = logging.getLogger('infoLogger')\n",
    "csv_logger = logging.getLogger('csvLogger')\n",
    "\n",
    "while True:\n",
    "    info_logger.info(\"Info mensaje\")\n",
    "    info_logger.error(\"Error mensaje\")\n",
    "    csv_logger.info(\"CSV Mensaje\")\n",
    "\n",
    "    time.sleep(1)"
   ]
  },
  {
   "cell_type": "markdown",
   "id": "ff2a1451-fcf3-49ba-9171-f54996c9dd53",
   "metadata": {},
   "source": [
    "# Exercici 02"
   ]
  },
  {
   "cell_type": "markdown",
   "id": "5b71ac70-cad5-4ceb-b56e-f8c72c4c1b7e",
   "metadata": {
    "jp-MarkdownHeadingCollapsed": true
   },
   "source": [
    "**Que creieu que és millor mostrar els logs per exemple a la terminal durant l'execució del programa o bolcar-los en un fitxer de text?**"
   ]
  },
  {
   "cell_type": "markdown",
   "id": "239eddba-1b97-46ac-a48d-f8105154b293",
   "metadata": {},
   "source": [
    "L'elecció de mostrar els registres en la terminal o guardar-los en un arxiu depèn de les necessitats específiques de l'aplicació. Mostrar els registres en la terminal és útil durant el desenvolupament, ja que permet observar en temps real els esdeveniments que ocorren mentre el programa està en execució. Això facilita la depuració i el monitoratge instantani del comportament del programa. No obstant això, els registres mostrats en la terminal es perden quan el programa acaba, la qual cosa pot ser problemàtic si és necessari consultar-los més tard o realitzar una anàlisi posterior.\n",
    "\n",
    "Guardar els registres en un arxiu ofereix l'avantatge de conservar-los, la qual cosa permet fer un seguiment a llarg termini, revisar errors passats o realitzar auditories. A més, els arxius de registre poden ser analitzats o processaments amb eines externes. No obstant això, aquesta opció requereix una mica més de configuració, especialment si l'aplicació genera una gran quantitat de dades, la qual cosa obliga a gestionar la grandària dels arxius i a configurar rotació de logs.\n",
    "\n",
    "Una pràctica comuna és utilitzar tots dos mètodes: mostrar els registres importants en la terminal durant l'execució per a visibilitat immediata, i guardar els registres més detallats en arxius per a consultes o anàlisis posteriors. Això assegura que es tingui accés a la informació en temps real mentre es manté un arxiu complet per a un seguiment més exhaustiu.\n"
   ]
  },
  {
   "cell_type": "markdown",
   "id": "1c063e44-858e-4503-94d1-501259a3f739",
   "metadata": {},
   "source": [
    "**Omple la següent taula amb expmple, avantantges, i desavantatges de les següents maneres de fer logs:**"
   ]
  },
  {
   "cell_type": "markdown",
   "id": "4ba3abe1-7597-4c9c-aa35-d6b7f8c6c0e1",
   "metadata": {},
   "source": [
    "| Mètode | Exemple | Avantatges | Desavantatges |\n",
    "| --- | --- | --- | --- |\n",
    "| **Configuració per defecte** | `logging.basicConfig()` | Ràpid i senzill. No requereix configuració addicional. | Menys flexibilitat i configuracions globals. |\n",
    "| **Instanciant un logger manualment** | `logger = logging.getLogger('my_logger')` | Control detallat de la configuració, múltiples loggers. | Més codi i configuració, difícil en aplicacions grans. |\n",
    "| **Instanciant un logger des de fitxer** | `logging.config.fileConfig('logging.conf')` | Separació entre codi i configuració, fàcil de gestionar configuracions complexes. | Requereix fitxer extern, pot ser difícil de mantenir. |\n"
   ]
  },
  {
   "cell_type": "markdown",
   "id": "a984efc1-c774-4bd0-81bc-6adacf4bc1c3",
   "metadata": {},
   "source": [
    "**Cerca llibreries de logs en altres llenguatjes (al menys 2, i identifica cóm resolen les següents característiques típiques d’un sistema de logging.  Omple la següent taula, i inclou-la al read-me del repositori:**"
   ]
  },
  {
   "cell_type": "markdown",
   "id": "d69f4afa-e764-4ba7-8b27-cf18d61ed29a",
   "metadata": {},
   "source": [
    "| **Llenguatge** | **Python**              | **Java**                 |\n",
    "|----------------|-------------------------|--------------------------|\n",
    "| **Nom de la llibreria** | `logging`               | `SLF4J`                  |\n",
    "| **És nativa del llenguatge?** | Sí                    | No                       |\n",
    "| **URL per descarregar-se la llibreria** | [Python logging docs](https://docs.python.org/3/library/logging.html) | [SLF4J official site](https://www.slf4j.org/) |\n",
    "| **Inicialització de l'objecte de logger** | `logging.basicConfig()`  | `LoggerFactory.getLogger()` |\n",
    "| **Nivells de log disponibles** | `DEBUG`, `INFO`, `WARNING`, `ERROR`, `CRITICAL` | `TRACE`, `DEBUG`, `INFO`, `WARN`, `ERROR`, `FATAL` |\n",
    "| **Mètode per fer log** | `logging.debug()`, `logging.info()`, etc. | `LOGGER.debug()`, `LOGGER.info()`, etc. |\n",
    "| **Tipus de manegadors** | Pantalla, Fitxer, Socket | Consola, Fitxer, Socket |\n",
    "| **Opcions de format** | `%(asctime)s - %(levelname)s - %(message)s` | `\"%d{HH:mm:ss} [%thread] %-5level %logger{36} - %msg%n\"` |\n"
   ]
  },
  {
   "cell_type": "markdown",
   "id": "539f8837-8f0a-4850-ad3b-dcd70aa02734",
   "metadata": {},
   "source": [
    "# Exercici 03"
   ]
  },
  {
   "cell_type": "markdown",
   "id": "2b1f5941-b22e-4e09-9e10-1af0972b854c",
   "metadata": {},
   "source": [
    "**Pandas -----------------------------------------------------------------------------------------------------------------------------------**"
   ]
  },
  {
   "cell_type": "markdown",
   "id": "8622d3d5-0eb4-4c48-a0ae-7cf68100f2d3",
   "metadata": {},
   "source": [
    "**Funcionalitat:**"
   ]
  },
  {
   "cell_type": "markdown",
   "id": "8d1ccc40-84e7-4cb4-bad7-927f41af2161",
   "metadata": {},
   "source": [
    "Pandas és una biblioteca de Python dissenyada per a la manipulació i anàlisi de dades. Proporciona estructures de dades ràpides i eficients, com el DataFrame, que permet gestionar taules, columnes, i operar amb grans volums de dades estructurades o semiestructurades (CSV, JSON, Excel, etc.)."
   ]
  },
  {
   "cell_type": "markdown",
   "id": "09e43264-ce98-4dac-8e34-db8054806c5a",
   "metadata": {},
   "source": [
    "**Prova - Lectura d’un fitxer CSV i processament :**"
   ]
  },
  {
   "cell_type": "code",
   "execution_count": 1,
   "id": "ba1e32cf-ebd9-48cf-b84b-78c562d51dfe",
   "metadata": {},
   "outputs": [
    {
     "name": "stdout",
     "output_type": "stream",
     "text": [
      "   18:58:29  INFO  CSV Mensaje\n",
      "0  18:58:30  INFO  CSV Mensaje\n",
      "1  18:58:31  INFO  CSV Mensaje\n",
      "2  18:58:32  INFO  CSV Mensaje\n",
      "3  18:58:33  INFO  CSV Mensaje\n",
      "4  18:58:34  INFO  CSV Mensaje\n",
      "        18:58:29  INFO  CSV Mensaje\n",
      "count         38    38           38\n",
      "unique        38     1            1\n",
      "top     18:58:30  INFO  CSV Mensaje\n",
      "freq           1    38           38\n"
     ]
    }
   ],
   "source": [
    "import pandas as pd\n",
    "df = pd.read_csv(\"log_csv.csv\")\n",
    "print(df.head())\n",
    "print(df.describe())"
   ]
  },
  {
   "cell_type": "markdown",
   "id": "f41bcc3d-98c4-4c4a-af5a-78e51a2390d6",
   "metadata": {},
   "source": [
    "**Avantatges:**"
   ]
  },
  {
   "cell_type": "markdown",
   "id": "f005842a-ca38-4d7b-adad-95e2ca56a4fe",
   "metadata": {},
   "source": [
    "Facilita enormement la manipulació de dades i permet integrar-se amb altres biblioteques per crear visualitzacions."
   ]
  },
  {
   "cell_type": "markdown",
   "id": "4a31319d-e9c2-4d5a-a406-fa1cdf94fc25",
   "metadata": {},
   "source": [
    "**Jupyter Notebook ---------------------------------------------------------------------------------------------------------------------------------------**"
   ]
  },
  {
   "cell_type": "markdown",
   "id": "2efbd347-f230-481d-8ce8-b8019e2e8144",
   "metadata": {},
   "source": [
    "**Funcionalitat:**"
   ]
  },
  {
   "cell_type": "markdown",
   "id": "2e3a31a4-0be4-461c-bdec-7ce3c4edca31",
   "metadata": {},
   "source": [
    "Jupyter és un entorn interactiu que permet crear i compartir documents amb codi, text formatat (Markdown), gràfiques i sortides de codi. És ideal per a anàlisi exploratòria, documentació del procés, i presentació de resultats de manera didàctica."
   ]
  },
  {
   "cell_type": "markdown",
   "id": "0f84190f-a8c0-4cbb-8e68-beb9a9ef3af9",
   "metadata": {},
   "source": [
    "**Prova - Visualització de dades utilitzant gràfiques de barres :**"
   ]
  },
  {
   "cell_type": "code",
   "execution_count": 2,
   "id": "83362f4e-29ba-475b-9d37-4eb33dc0abb8",
   "metadata": {},
   "outputs": [
    {
     "data": {
      "image/png": "[encoded data removed]",
      "text/plain": [
       "<Figure size 640x480 with 1 Axes>"
      ]
     },
     "metadata": {},
     "output_type": "display_data"
    }
   ],
   "source": [
    "import pandas as pd\n",
    "import matplotlib.pyplot as plt\n",
    "\n",
    "dades = {\n",
    "    \"Categoria\": [\"A\", \"B\", \"C\", \"D\"],\n",
    "    \"Quantitat\": [10, 20, 15, 5]\n",
    "}\n",
    "\n",
    "df = pd.DataFrame(dades)\n",
    "\n",
    "plt.bar(df[\"Categoria\"], df[\"Quantitat\"], color=\"skyblue\")\n",
    "plt.xlabel(\"Categoria\")\n",
    "plt.ylabel(\"Quantitat\")\n",
    "plt.title(\"Gràfica de barres d'exemple\")\n",
    "plt.savefig(\"grafica_exemple.png\")\n",
    "plt.show()\n"
   ]
  },
  {
   "cell_type": "markdown",
   "id": "94ceaa5f-1845-4496-aac5-624dc122894c",
   "metadata": {},
   "source": [
    "**Avantatges:**"
   ]
  },
  {
   "cell_type": "markdown",
   "id": "e75e2e97-b309-4e30-a095-28dde9caee92",
   "metadata": {},
   "source": [
    "Permet documentar i provar en temps real. És ideal per presentar dades als usuaris de manera interactiva i visual."
   ]
  },
  {
   "cell_type": "markdown",
   "id": "154cdf78-d02c-4257-afad-0f7388e8c891",
   "metadata": {},
   "source": [
    "**ReportLab -------------------------------------------------------------------------------------------------------------------------------------------------**"
   ]
  },
  {
   "cell_type": "markdown",
   "id": "601e60c3-7e60-47a9-aee2-74c8deee7cf2",
   "metadata": {},
   "source": [
    "**Funcionalitat:**"
   ]
  },
  {
   "cell_type": "markdown",
   "id": "f547d70b-0e38-4468-adc3-59759a073f24",
   "metadata": {},
   "source": [
    "ReportLab permet generar documents PDF programàticament. És útil per crear informes amb text, gràfiques i taules. Suporta personalització avançada com disseny de pàgines, afegir imatges o gràfiques exportades."
   ]
  },
  {
   "cell_type": "markdown",
   "id": "92a314f6-393f-44d7-aac7-7f5d18ad7c1d",
   "metadata": {},
   "source": [
    "**Prova - Generar PDF amb informació :**"
   ]
  },
  {
   "cell_type": "code",
   "execution_count": 8,
   "id": "807567ac-ae61-4408-8dba-13420cfa02f4",
   "metadata": {},
   "outputs": [
    {
     "name": "stdout",
     "output_type": "stream",
     "text": [
      "Requirement already satisfied: fpdf in /usr/local/python/3.12.1/lib/python3.12/site-packages (1.7.2)\n",
      "\n",
      "\u001b[1m[\u001b[0m\u001b[34;49mnotice\u001b[0m\u001b[1;39;49m]\u001b[0m\u001b[39;49m A new release of pip is available: \u001b[0m\u001b[31;49m24.2\u001b[0m\u001b[39;49m -> \u001b[0m\u001b[32;49m24.3.1\u001b[0m\n",
      "\u001b[1m[\u001b[0m\u001b[34;49mnotice\u001b[0m\u001b[1;39;49m]\u001b[0m\u001b[39;49m To update, run: \u001b[0m\u001b[32;49mpython3 -m pip install --upgrade pip\u001b[0m\n"
     ]
    }
   ],
   "source": [
    "!pip install fpdf"
   ]
  },
  {
   "cell_type": "code",
   "execution_count": 9,
   "id": "79697810-c1e0-423a-b750-c8a34eb6d2be",
   "metadata": {},
   "outputs": [
    {
     "data": {
      "text/plain": [
       "''"
      ]
     },
     "execution_count": 9,
     "metadata": {},
     "output_type": "execute_result"
    }
   ],
   "source": [
    "from fpdf import FPDF\n",
    "\n",
    "pdf = FPDF()\n",
    "pdf.add_page()\n",
    "\n",
    "pdf.set_font('Arial', 'B', 16)\n",
    "pdf.cell(200, 10, 'Informe Senzill amb FPDF', ln=True, align='C')\n",
    "pdf.set_font('Arial', '', 12)\n",
    "\n",
    "pdf.cell(200, 10, 'Aquest és un informe generat amb la llibreria FPDF en Python.', ln=True)\n",
    "pdf.cell(200, 10, 'És un exemple senzill sense gràfiques ni taules.', ln=True)\n",
    "\n",
    "pdf.output('informe_senzill.pdf')\n"
   ]
  },
  {
   "cell_type": "markdown",
   "id": "887dad2d-d5d0-47e7-9f9e-fa7388925ca5",
   "metadata": {},
   "source": [
    "**Avantatges:**"
   ]
  },
  {
   "cell_type": "markdown",
   "id": "b6e51589-6040-4dec-b2f4-e0f88f99acb4",
   "metadata": {},
   "source": [
    "Exporta informes professionals en format PDF, permetent compartir resultats fàcilment."
   ]
  },
  {
   "cell_type": "markdown",
   "id": "ea3b9494-5513-43eb-8049-929ddcb6de4f",
   "metadata": {},
   "source": [
    "# Exercici 04"
   ]
  },
  {
   "cell_type": "markdown",
   "id": "c212b858-3747-4555-8e6f-76d63ef69f4d",
   "metadata": {
    "jp-MarkdownHeadingCollapsed": true
   },
   "source": [
    "**En aquest exercici caldrà generar per exemple un CSV amb les dades que treballareu. RECORDAR que el CSV treballa amb comes...**"
   ]
  },
  {
   "cell_type": "code",
   "execution_count": 12,
   "id": "8310618a-819c-4cc8-a472-cd39aeb8da92",
   "metadata": {},
   "outputs": [],
   "source": [
    "import csv\n",
    "\n",
    "data = [\n",
    "    ['Professor', 'Alumne', 'M01', 'M04', 'M03', 'M05'],\n",
    "    ['Emili', 'Xavier', 7, 9, 5, 8],\n",
    "    ['Mario', 'Marc', 10, 3, 5, 8],\n",
    "    ['Steven', 'Jaume', 8, 5, 6, 4],\n",
    "    ['Carlos', 'Luis', 6, 8, 7, 9],\n",
    "    ['Ana', 'Carlos', 9, 8, 6, 7],\n",
    "    ['Maria', 'Jose', 5, 7, 8, 6],\n",
    "    ['Josep', 'Albert', 7, 6, 9, 8],\n",
    "    ['Marta', 'Patricia', 6, 8, 7, 5],\n",
    "    ['Pau', 'Roger', 7, 7, 6, 6],\n",
    "    ['Laura', 'Sara', 9, 10, 8, 9],\n",
    "    ['Ricardo', 'Sofia', 5, 6, 8, 7],\n",
    "    ['Rosa', 'Carla', 8, 9, 6, 8],\n",
    "    ['Carles', 'Marcos', 10, 7, 9, 10],\n",
    "    ['Jordi', 'Manuel', 8, 8, 8, 7],\n",
    "    ['Irene', 'Alba', 7, 6, 7, 9],\n",
    "    ['Miguel', 'David', 9, 9, 8, 7],\n",
    "    ['Carmen', 'Martí', 6, 7, 5, 6],\n",
    "    ['Raquel', 'Cristina', 10, 6, 7, 8],\n",
    "    ['Pedro', 'Daniel', 8, 9, 10, 6],\n",
    "    ['William', 'Santi', 9, 6, 1, 4]\n",
    "]\n",
    "\n",
    "with open('dades_notas.csv', 'w', newline='') as file:\n",
    "    writer = csv.writer(file)\n",
    "    writer.writerows(data)"
   ]
  },
  {
   "cell_type": "code",
   "execution_count": 14,
   "id": "a5b983c4-0f14-4a0b-84c8-63dea74744f9",
   "metadata": {},
   "outputs": [
    {
     "data": {
      "text/html": [
       "<div>\n",
       "<style scoped>\n",
       "    .dataframe tbody tr th:only-of-type {\n",
       "        vertical-align: middle;\n",
       "    }\n",
       "\n",
       "    .dataframe tbody tr th {\n",
       "        vertical-align: top;\n",
       "    }\n",
       "\n",
       "    .dataframe thead th {\n",
       "        text-align: right;\n",
       "    }\n",
       "</style>\n",
       "<table border=\"1\" class=\"dataframe\">\n",
       "  <thead>\n",
       "    <tr style=\"text-align: right;\">\n",
       "      <th></th>\n",
       "      <th>Professor</th>\n",
       "      <th>Alumne</th>\n",
       "      <th>M01</th>\n",
       "      <th>M04</th>\n",
       "      <th>M03</th>\n",
       "      <th>M05</th>\n",
       "    </tr>\n",
       "  </thead>\n",
       "  <tbody>\n",
       "    <tr>\n",
       "      <th>0</th>\n",
       "      <td>Emili</td>\n",
       "      <td>Xavier</td>\n",
       "      <td>7</td>\n",
       "      <td>9</td>\n",
       "      <td>5</td>\n",
       "      <td>8</td>\n",
       "    </tr>\n",
       "    <tr>\n",
       "      <th>1</th>\n",
       "      <td>Mario</td>\n",
       "      <td>Marc</td>\n",
       "      <td>10</td>\n",
       "      <td>3</td>\n",
       "      <td>5</td>\n",
       "      <td>8</td>\n",
       "    </tr>\n",
       "    <tr>\n",
       "      <th>2</th>\n",
       "      <td>Steven</td>\n",
       "      <td>Jaume</td>\n",
       "      <td>8</td>\n",
       "      <td>5</td>\n",
       "      <td>6</td>\n",
       "      <td>4</td>\n",
       "    </tr>\n",
       "    <tr>\n",
       "      <th>3</th>\n",
       "      <td>Carlos</td>\n",
       "      <td>Luis</td>\n",
       "      <td>6</td>\n",
       "      <td>8</td>\n",
       "      <td>7</td>\n",
       "      <td>9</td>\n",
       "    </tr>\n",
       "    <tr>\n",
       "      <th>4</th>\n",
       "      <td>Ana</td>\n",
       "      <td>Carlos</td>\n",
       "      <td>9</td>\n",
       "      <td>8</td>\n",
       "      <td>6</td>\n",
       "      <td>7</td>\n",
       "    </tr>\n",
       "    <tr>\n",
       "      <th>5</th>\n",
       "      <td>Maria</td>\n",
       "      <td>Jose</td>\n",
       "      <td>5</td>\n",
       "      <td>7</td>\n",
       "      <td>8</td>\n",
       "      <td>6</td>\n",
       "    </tr>\n",
       "    <tr>\n",
       "      <th>6</th>\n",
       "      <td>Josep</td>\n",
       "      <td>Albert</td>\n",
       "      <td>7</td>\n",
       "      <td>6</td>\n",
       "      <td>9</td>\n",
       "      <td>8</td>\n",
       "    </tr>\n",
       "    <tr>\n",
       "      <th>7</th>\n",
       "      <td>Marta</td>\n",
       "      <td>Patricia</td>\n",
       "      <td>6</td>\n",
       "      <td>8</td>\n",
       "      <td>7</td>\n",
       "      <td>5</td>\n",
       "    </tr>\n",
       "    <tr>\n",
       "      <th>8</th>\n",
       "      <td>Pau</td>\n",
       "      <td>Roger</td>\n",
       "      <td>7</td>\n",
       "      <td>7</td>\n",
       "      <td>6</td>\n",
       "      <td>6</td>\n",
       "    </tr>\n",
       "    <tr>\n",
       "      <th>9</th>\n",
       "      <td>Laura</td>\n",
       "      <td>Sara</td>\n",
       "      <td>9</td>\n",
       "      <td>10</td>\n",
       "      <td>8</td>\n",
       "      <td>9</td>\n",
       "    </tr>\n",
       "    <tr>\n",
       "      <th>10</th>\n",
       "      <td>Ricardo</td>\n",
       "      <td>Sofia</td>\n",
       "      <td>5</td>\n",
       "      <td>6</td>\n",
       "      <td>8</td>\n",
       "      <td>7</td>\n",
       "    </tr>\n",
       "    <tr>\n",
       "      <th>11</th>\n",
       "      <td>Rosa</td>\n",
       "      <td>Carla</td>\n",
       "      <td>8</td>\n",
       "      <td>9</td>\n",
       "      <td>6</td>\n",
       "      <td>8</td>\n",
       "    </tr>\n",
       "    <tr>\n",
       "      <th>12</th>\n",
       "      <td>Carles</td>\n",
       "      <td>Marcos</td>\n",
       "      <td>10</td>\n",
       "      <td>7</td>\n",
       "      <td>9</td>\n",
       "      <td>10</td>\n",
       "    </tr>\n",
       "    <tr>\n",
       "      <th>13</th>\n",
       "      <td>Jordi</td>\n",
       "      <td>Manuel</td>\n",
       "      <td>8</td>\n",
       "      <td>8</td>\n",
       "      <td>8</td>\n",
       "      <td>7</td>\n",
       "    </tr>\n",
       "    <tr>\n",
       "      <th>14</th>\n",
       "      <td>Irene</td>\n",
       "      <td>Alba</td>\n",
       "      <td>7</td>\n",
       "      <td>6</td>\n",
       "      <td>7</td>\n",
       "      <td>9</td>\n",
       "    </tr>\n",
       "    <tr>\n",
       "      <th>15</th>\n",
       "      <td>Miguel</td>\n",
       "      <td>David</td>\n",
       "      <td>9</td>\n",
       "      <td>9</td>\n",
       "      <td>8</td>\n",
       "      <td>7</td>\n",
       "    </tr>\n",
       "    <tr>\n",
       "      <th>16</th>\n",
       "      <td>Carmen</td>\n",
       "      <td>Martí</td>\n",
       "      <td>6</td>\n",
       "      <td>7</td>\n",
       "      <td>5</td>\n",
       "      <td>6</td>\n",
       "    </tr>\n",
       "    <tr>\n",
       "      <th>17</th>\n",
       "      <td>Raquel</td>\n",
       "      <td>Cristina</td>\n",
       "      <td>10</td>\n",
       "      <td>6</td>\n",
       "      <td>7</td>\n",
       "      <td>8</td>\n",
       "    </tr>\n",
       "    <tr>\n",
       "      <th>18</th>\n",
       "      <td>Pedro</td>\n",
       "      <td>Daniel</td>\n",
       "      <td>8</td>\n",
       "      <td>9</td>\n",
       "      <td>10</td>\n",
       "      <td>6</td>\n",
       "    </tr>\n",
       "    <tr>\n",
       "      <th>19</th>\n",
       "      <td>William</td>\n",
       "      <td>Santi</td>\n",
       "      <td>9</td>\n",
       "      <td>6</td>\n",
       "      <td>1</td>\n",
       "      <td>4</td>\n",
       "    </tr>\n",
       "  </tbody>\n",
       "</table>\n",
       "</div>"
      ],
      "text/plain": [
       "   Professor    Alumne  M01  M04  M03  M05\n",
       "0      Emili    Xavier    7    9    5    8\n",
       "1      Mario      Marc   10    3    5    8\n",
       "2     Steven     Jaume    8    5    6    4\n",
       "3     Carlos      Luis    6    8    7    9\n",
       "4        Ana    Carlos    9    8    6    7\n",
       "5      Maria      Jose    5    7    8    6\n",
       "6      Josep    Albert    7    6    9    8\n",
       "7      Marta  Patricia    6    8    7    5\n",
       "8        Pau     Roger    7    7    6    6\n",
       "9      Laura      Sara    9   10    8    9\n",
       "10   Ricardo     Sofia    5    6    8    7\n",
       "11      Rosa     Carla    8    9    6    8\n",
       "12    Carles    Marcos   10    7    9   10\n",
       "13     Jordi    Manuel    8    8    8    7\n",
       "14     Irene      Alba    7    6    7    9\n",
       "15    Miguel     David    9    9    8    7\n",
       "16    Carmen     Martí    6    7    5    6\n",
       "17    Raquel  Cristina   10    6    7    8\n",
       "18     Pedro    Daniel    8    9   10    6\n",
       "19   William     Santi    9    6    1    4"
      ]
     },
     "execution_count": 14,
     "metadata": {},
     "output_type": "execute_result"
    }
   ],
   "source": [
    "import pandas as pd\n",
    "df = pd.read_csv('dades_notas.csv')\n",
    "df"
   ]
  },
  {
   "cell_type": "markdown",
   "id": "765eee66-6968-425b-bc98-3aeda3e81cf9",
   "metadata": {},
   "source": [
    "# Exercici 05"
   ]
  },
  {
   "cell_type": "markdown",
   "id": "5662a141-b1aa-47a3-9995-4301aa82fccc",
   "metadata": {},
   "source": [
    "**Un cop tractades les dades introduïdes via fitxer caldrà investigar la llibreria que hagueu triat i elaborar com a mínim el codi necessari per presentar de forma que tinguin sentit amb l'àmbit del problema una sèrie de dades transformades obtingudes corresponents a, (s’haurà de adequar a les vostres dades però per a que tingueu algun exemple).**"
   ]
  },
  {
   "cell_type": "code",
   "execution_count": 2,
   "id": "9eb8c241-53c4-4c11-88ac-e2252d3b04a9",
   "metadata": {},
   "outputs": [
    {
     "name": "stdout",
     "output_type": "stream",
     "text": [
      "      Alumne  Mitjana\n",
      "0     Xavier     7.25\n",
      "1       Marc     6.50\n",
      "2      Jaume     5.75\n",
      "3       Luis     7.50\n",
      "4     Carlos     7.50\n",
      "5       Jose     6.50\n",
      "6     Albert     7.50\n",
      "7   Patricia     6.50\n",
      "8      Roger     6.50\n",
      "9       Sara     9.00\n",
      "10     Sofia     6.50\n",
      "11     Carla     7.75\n",
      "12    Marcos     9.00\n",
      "13    Manuel     7.75\n",
      "14      Alba     7.25\n",
      "15     David     8.25\n",
      "16     Martí     6.00\n",
      "17  Cristina     7.75\n",
      "18    Daniel     8.25\n",
      "19     Santi     5.00\n",
      "Mitjana global de totes les notes: 7.20\n",
      "Percentatge d'aprovats: 100.00%\n",
      "Percentatge de suspesos: 0.00%\n",
      "Nota més baixa: 1\n",
      "Nota més alta: 10\n"
     ]
    }
   ],
   "source": [
    "import pandas as pd\n",
    "\n",
    "df = pd.read_csv(\"dades_notas.csv\")\n",
    "\n",
    "# Calcular la media de las notas de cada alumno\n",
    "df['Mitjana'] = df[['M01', 'M04', 'M03', 'M05']].mean(axis=1)\n",
    "\n",
    "# Mostrar el DataFrame con la nueva columna de media\n",
    "print(df[['Alumne', 'Mitjana']])\n",
    "\n",
    "# Calcular la media global de todas las notas\n",
    "mitjana_global = df[['M01', 'M04', 'M03', 'M05']].mean().mean()\n",
    "print(f\"Mitjana global de totes les notes: {mitjana_global:.2f}\")\n",
    "\n",
    "# Calcular el porcentaje de aprobados y suspendidos\n",
    "aprovats = df[df['Mitjana'] >= 5]\n",
    "suspesos = df[df['Mitjana'] < 5]\n",
    "\n",
    "percentatge_aprovats = (len(aprovats) / len(df)) * 100\n",
    "percentatge_suspens = (len(suspesos) / len(df)) * 100\n",
    "\n",
    "print(f\"Percentatge d'aprovats: {percentatge_aprovats:.2f}%\")\n",
    "print(f\"Percentatge de suspesos: {percentatge_suspens:.2f}%\")\n",
    "\n",
    "# Identificar la nota más baja y la más alta\n",
    "nota_mes_baixa = df[['M01', 'M04', 'M03', 'M05']].min().min()\n",
    "nota_mes_alta = df[['M01', 'M04', 'M03', 'M05']].max().max()\n",
    "\n",
    "print(f\"Nota més baixa: {nota_mes_baixa}\")\n",
    "print(f\"Nota més alta: {nota_mes_alta}\")\n"
   ]
  },
  {
   "cell_type": "code",
   "execution_count": null,
   "id": "ad2cfb3a-f749-43b1-bbb8-88d6341c627a",
   "metadata": {},
   "outputs": [],
   "source": []
  }
 ],
 "metadata": {
  "kernelspec": {
   "display_name": "Python 3 (ipykernel)",
   "language": "python",
   "name": "python3"
  },
  "language_info": {
   "codemirror_mode": {
    "name": "ipython",
    "version": 3
   },
   "file_extension": ".py",
   "mimetype": "text/x-python",
   "name": "python",
   "nbconvert_exporter": "python",
   "pygments_lexer": "ipython3",
   "version": "3.12.1"
  }
 },
 "nbformat": 4,
 "nbformat_minor": 5
}
